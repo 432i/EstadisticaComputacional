{
 "cells": [
  {
   "cell_type": "markdown",
   "metadata": {},
   "source": [
    "<table style=\"width:100%\">\n",
    "  <tr>\n",
    "    <th align=\"right\"><img src=\"img/dilogo.png\" style=\"float:left;height:90px\"></th>\n",
    "    <th align=\"center\">\n",
    "    <h1 align=\"center\">Laboratorio 3</h1>\n",
    "    <h2 align=\"center\">Profesor: Ricardo Ñanculef</h2>\n",
    "    <h3 align=\"center\">Ayudante: Gabriel Ortega</h3>\n",
    "    <h3 align=\"center\">Ignacio Aedo;201773556-2;Malla Nueva</h3>\n",
    "    <h3 align=\"center\">Ethiel Carmona;201773533-3;Malla Nueva</h3>\n",
    "    <h3 align=\"center\">Mayo 2019</h3>\n",
    "    </th> \n",
    "    <th align=\"left\"><img src=\"img/usmlogo.png\" style=\"float:right;height:85px\"></th>\n",
    "  </tr>"
   ]
  },
  {
   "cell_type": "markdown",
   "metadata": {},
   "source": [
    "## Instrucciones\n",
    "\n",
    "La modalidad de trabajo será mediante el uso de jupyter notebook. El notebook debe ser desarrollado en parejas o individual. Este laboratorio debe ser entregado el día *cuando se baje el paro hay fecha*.\n",
    "\n",
    "La **modalidad de entrega será un archivo Apellido1_Apellido2_Lab3.zip** que contenga un notebook que incluya todas las preguntas con sus respectivas respuestas + un README que indique la forma correcta de ejecutar su notebook. El laboratorio puede ser trabajado tanto en lenguaje R como en lenguaje python (para los que usen python 2.X, absténganse a las consecuencias). Lea bien el enunciado.\n",
    "\n",
    "\n",
    "**Cualquier copia detectada implicará nota 0 en el laboratorio correspondiente y se notificará la situación al profesor.**\n",
    "\n",
    "## Tips V.2\n",
    "\n",
    "A la hora de trabajar con números o procesos aleatorios a veces es importante poder replicar lo que usted realiza (pensando en un trabajo que se mostrará a la comunidad científica), para esto se tiene que, para generar la misma secuencia de números aleatorios, se debe pasar una *semilla* al generador de éstos. \n",
    "\n",
    "**R**\n",
    "```R\n",
    "set.seed(numero)\n",
    "```\n",
    "\n",
    "**Python**\n",
    "```python\n",
    "numpy.random.seed(numero) #libreria numpy \n",
    "random.seed(numero) #libreria random\n",
    "#O de otra libreria que pueda utilizar para generar números aleatorios\n",
    "```\n",
    "\n",
    "Si desea puede aplicar esto en su laboratorio para que se pueda reproducir exactamente lo mismo que usted obtuvo."
   ]
  },
  {
   "cell_type": "code",
   "execution_count": 6,
   "metadata": {},
   "outputs": [
    {
     "ename": "SyntaxError",
     "evalue": "invalid syntax (<ipython-input-6-81168e5b76dd>, line 4)",
     "output_type": "error",
     "traceback": [
      "\u001b[1;36m  File \u001b[1;32m\"<ipython-input-6-81168e5b76dd>\"\u001b[1;36m, line \u001b[1;32m4\u001b[0m\n\u001b[1;33m    for(i in 1:10){\u001b[0m\n\u001b[1;37m              ^\u001b[0m\n\u001b[1;31mSyntaxError\u001b[0m\u001b[1;31m:\u001b[0m invalid syntax\n"
     ]
    }
   ],
   "source": [
    "## Ejemplo R \n",
    "\n",
    "print(\"Obteniendo el mismo número siempre\")\n",
    "for(i in 1:10){\n",
    "    set.seed(1) #Esto hará que saquemos el mismo número una y otra vez \n",
    "    resultado = sample(c(1:1000),1) #Sacaremos 1 número entre 1 y 1000\n",
    "    print(resultado)\n",
    "}\n",
    "\n",
    "print(\"Obteniendo la misma secuencia \") #Correr múltiples veces para ver esto \n",
    "set.seed(1)\n",
    "for(i in 1:10){\n",
    "    resultado = sample(c(1:1000),1)\n",
    "    print(resultado) #Aquí se obtiene la misma secuencia \n",
    "}"
   ]
  },
  {
   "cell_type": "code",
   "execution_count": 4,
   "metadata": {},
   "outputs": [
    {
     "name": "stdout",
     "output_type": "stream",
     "text": [
      "Obteniendo el mismo número siempre\n",
      "138\n",
      "138\n",
      "138\n",
      "138\n",
      "138\n",
      "138\n",
      "138\n",
      "138\n",
      "138\n",
      "138\n",
      "Obteniendo la mismas secuencia \n",
      "138\n",
      "583\n",
      "868\n",
      "822\n",
      "783\n",
      "65\n",
      "262\n",
      "121\n",
      "508\n",
      "780\n"
     ]
    }
   ],
   "source": [
    "## Ejemplo Python \n",
    "import random \n",
    "\n",
    "print(\"Obteniendo el mismo número siempre\")\n",
    "for i in range(10):\n",
    "    random.seed(1)\n",
    "    resultado = random.randint(1,1000)\n",
    "    print(resultado)\n",
    "\n",
    "print(\"Obteniendo la mismas secuencia \") #Correr múltiples veces para ver esto \n",
    "random.seed(1)\n",
    "for i in range(10):\n",
    "    resultado = random.randint(1,1000)\n",
    "    print(resultado)"
   ]
  },
  {
   "cell_type": "markdown",
   "metadata": {},
   "source": [
    "## 1. LDA (40p)\n",
    "\n",
    "Es de mucho interés hoy en día el hecho de poder construir un clasificador que pueda inferir reglas a partir de los datos para poder predecir a futuro, en esta sección trabajará con una versión simplificada del dataset del titanic (data_titanic.csv), la que contiene 3 columnas:\n",
    "\n",
    "* Age: la edad del pasajero\n",
    "* Fare: el precio del boleto\n",
    "* Survived: si sobrevivió a la tragedia o no\n",
    "\n",
    "(Si, estamos en el ámbito multivariado ahora)\n",
    "\n",
    "El clasificador, en breves palabras, intenta maximizar $P(Y=survived|X=age,fare)$ asumiendo que los datos ($X$) provienen de una distribución Gaussiana Multivariada. Se espera que usted sea capaz de obtener los máximos verosímiles de los parámetros de esta distribución para poder construir su clasificador **a mano**.\n",
    "\n",
    ">a) Construya un clasificador LDA que permita distinguir si un pasajero sobrevive o no dado su edad y precio del ticket. *Recomendación: Puede separar una cantidad pequeña de datos para utilizarlos para probar su clasificador, es muy importante que si hace esto, estos datos no sean utilizados en la construcción del clasificador* \n",
    "\n",
    "Cualquier uso de las funciones provistas por los lenguajes que implementen LDA implica puntaje 0 en esta sección **sin excepción**.\n",
    "\n",
    "Esta pregunta es un poco extensa por lo que se recomienda leer bien el material provisto (mas abajo) y los libros guías del curso. No es necesario que responda todo de una, puede ir por partes, es más, esto es recomendable porque así puede ir ganando puntaje y no jugarse todo en un \"funciona/no funciona\" recuerde explicar bien su razonamiento.\n",
    "\n",
    "Si se complica mucho intente el caso univariado primero (fare vs survived ó age vs survived), si solamente presenta el univariado podrá optar a solamente 10 puntos del total (siempre y cuando esté bien).\n",
    "\n",
    "Material que podría resultar útil:\n",
    "* [Video](https://www.youtube.com/watch?v=azXCzI57Yfc)\n",
    "* [Articulo LDA](https://towardsdatascience.com/classification-part-2-linear-discriminant-analysis-ea60c45b9ee5)\n",
    "* [Explicacion matematica de sklearn](https://scikit-learn.org/stable/modules/lda_qda.html#lda-qda)\n",
    "* Libros Guía indicados en el Syllabus(verosimilitud)\n"
   ]
  },
  {
   "cell_type": "code",
   "execution_count": 7,
   "metadata": {},
   "outputs": [
    {
     "name": "stdout",
     "output_type": "stream",
     "text": [
      "XD\n"
     ]
    }
   ],
   "source": [
    "import matplotlib.pyplot as plt\n",
    "import pandas as pd\n",
    "import numpy as np\n",
    "import random\n",
    "from scipy import stats\n",
    "from scipy.stats import expon\n",
    "from scipy.stats import exponweib\n",
    "import math\n",
    "data=pd.read_csv('titanic.csv')\n",
    "print(\"XD\")\n"
   ]
  },
  {
   "cell_type": "markdown",
   "metadata": {},
   "source": [
    "## 2. Teorema de la Función Inversa (10p)\n",
    "\n",
    "El teorema de la función inversa permite generar variables aleatorias continuas con una función de distribución $F(x)$ a partir de la inversa $F^{-1}(x)$. Donde los valores generados en la función inversa están regidos por una distribución uniforme $u \\sim U(0,1)$. \n",
    "\n",
    "En esta sección se trabajará con la distribución Weibull, cuya función de densidad de probabilidad está dada por:\n",
    "\n",
    "\\begin{aligned}\n",
    "Weibull(\\alpha,\\beta) = \\frac{\\alpha}{\\beta^{\\alpha}}x^{\\alpha -1}\\cdot exp \\left( \\frac{-x}{\\beta}\\right)^{\\alpha}\n",
    "\\end{aligned}\n",
    "\n",
    "Para trabajar el teorema de la función inversa siga los siguientes pasos:\n",
    "\n",
    "1. Identificar la función que defina a la variable aleatoria.\n",
    "2. De dicha función calcular la función de densidad acumulada. Explique en breves palabras como obtenerla y si es invertible o no (Lo de invertible hace referencia a esta función de densidad acumulada Weibull en particular y no olvide mencionar cual es la función de densidad acumulada Weibull).\n",
    "3. De la función de densidad acumulada despejar la variable X. La distribución Weibull a trabajar tiene parámetros $\\alpha = 10$ y $\\beta = 3$\n",
    "4. Generar 10000 valores que siguen la distribución $u \\sim U(0,1)$ y utilícelos como argumento en la función inversa encontrada\n",
    "5. Genere una distribución weibull de tamaño 10000 con los mismos $\\alpha$ y $\\beta$ que la trabajada. Y haga un gráfico de la densidad de dichos valores. \n",
    "6. Concluya respecto a lo que observa en ambas gráficas."
   ]
  },
  {
   "cell_type": "markdown",
   "metadata": {},
   "source": [
    "La función que define la variable aleatoria: \\begin{aligned} \\frac{\\alpha}{\\beta^{\\alpha}}x^{\\alpha -1}\\cdot exp \\left( \\frac{-x}{\\beta}\\right)^{\\alpha}\\end{aligned}"
   ]
  },
  {
   "cell_type": "markdown",
   "metadata": {},
   "source": [
    "La función de densidad acumulada se obtiene de integrar la función de probabilidad en el intervalo [-inf,x]. De esta forma se obtiene:\n",
    "\\begin{aligned} {1-} exp \\left( \\frac{-x}{\\beta}\\right)^{\\alpha}\\end{aligned}"
   ]
  },
  {
   "cell_type": "markdown",
   "metadata": {},
   "source": [
    "La función al ser biyectiva y continua se convierte en una función invertible.\n",
    "Despejando X se obtiene:\n",
    "\\begin{aligned} {\\beta}\\cdot (-ln \\left( {1-y}\\right))^{\\frac{1}\\alpha}\\end{aligned}"
   ]
  },
  {
   "cell_type": "markdown",
   "metadata": {},
   "source": [
    "A continuación se generarán 10.000 valores siguiendo la distribución $u \\sim U(0,1)$ y se evaluarán estos valores en la función inversa anterior mencionada:"
   ]
  },
  {
   "cell_type": "code",
   "execution_count": 45,
   "metadata": {},
   "outputs": [],
   "source": [
    "#inversa=3*(-math.log(1-y))**1/10\n",
    "\n",
    "valors=np.random.uniform(0,1,10000)\n",
    "evaluados=[]\n",
    "for valor in valors:\n",
    "    evaluados.append((3*(-math.log(1-valor))**(1/10)))"
   ]
  },
  {
   "cell_type": "markdown",
   "metadata": {},
   "source": [
    "A continuación se generarán 10.000 valores siguiendo la distribución de Weibull con $\\alpha = 10$ y $\\beta = 3$:"
   ]
  },
  {
   "cell_type": "code",
   "execution_count": 46,
   "metadata": {},
   "outputs": [],
   "source": [
    "s = exponweib.rvs(10,3,size=10000)\n",
    "valoresWeeb=[]\n",
    "for n in s:\n",
    "    valoresWeeb.append(n)\n"
   ]
  },
  {
   "cell_type": "markdown",
   "metadata": {},
   "source": [
    "Graficando los resultados:"
   ]
  },
  {
   "cell_type": "code",
   "execution_count": 47,
   "metadata": {},
   "outputs": [
    {
     "data": {
      "image/png": "[encoded data removed]",
      "text/plain": [
       "<Figure size 432x288 with 1 Axes>"
      ]
     },
     "metadata": {
      "needs_background": "light"
     },
     "output_type": "display_data"
    },
    {
     "data": {
      "image/png": "[encoded data removed]",
      "text/plain": [
       "<Figure size 432x288 with 1 Axes>"
      ]
     },
     "metadata": {
      "needs_background": "light"
     },
     "output_type": "display_data"
    }
   ],
   "source": [
    "plt.hist(evaluados)\n",
    "plt.title(\"Inversa evaluada\")\n",
    "plt.show()\n",
    "plt.hist(valoresWeeb)\n",
    "plt.title(\"Distribución Weibull\")\n",
    "plt.show()"
   ]
  },
  {
   "cell_type": "markdown",
   "metadata": {},
   "source": [
    "Como se puede observar en los gráficos, a partir de la función inversa evaluando los valores de una distribución normal, obtuvimos una representación aproximada de la distribución original de Weibull. Así, el teorema de la función inversa que establece: \"generar variables aleatorias continuas con una función de distribución $F(x)$ a partir de la inversa $F^{-1}(x)$, donde los valores generados en la función inversa están regidos por una distribución uniforme $u \\sim U(0,1)$ \", queda demostrado de manera empírica."
   ]
  },
  {
   "cell_type": "markdown",
   "metadata": {},
   "source": [
    "## 3. Teorema del Límite Central (30p)\n",
    "\n",
    "El teorema del límite central es uno de los postulados más importantes de estadística. En esta sección se procederá a comprobarlo en su forma clásica. \n",
    "\n",
    "Sea $x_{1},x_{2},....,x_{n}$ una muestra aleatoria de tamaño $n$ IID extraidas de una distribución con valor esperado $\\mu$ y varianza finita $\\sigma^{2}$. Si calculamos la media muestral: \n",
    "\n",
    "$$ \\bar{X}_{n} = \\frac{\\sum x_{i}}{n}$$\n",
    "\n",
    "Y repetimos este proceso una gran cantidad de veces $(P)$ tendremos una distribución de las medias de las muestras (*Sample mean distribution*). El TLC establece que, si el número de repeticiones es lo suficientemente grande: \n",
    "\n",
    "$$ \\bar{X} \\sim N\\left(\\mu,\\sqrt{\\frac{\\sigma^{2}}{n}}\\right)$$ \n",
    "\n",
    "En esta sección se trabajará con la siguiente distribución y se demostrará lo que enuncia el TLC.\n",
    "\n",
    "| Valor | Probabilidad |\n",
    "|:-----:|:------------:|\n",
    "|   1   |      0.1     |\n",
    "|   2   |      0.2     |\n",
    "|   5   |     0.05     |\n",
    "|   6   |     0.05     |\n",
    "|   7   |      0.2     |\n",
    "|   9   |     0.10     |\n",
    "|   10  |     0.05     |\n",
    "|   11  |     0.2      |\n",
    "|   12  |     0.05     |\n",
    "\n",
    ">a) Determine el valor esperado y la varianza **TEÓRICOS**"
   ]
  },
  {
   "cell_type": "markdown",
   "metadata": {},
   "source": [
    "Se procede a calcular el valor esperado (Σx*p(x)) y la varianza (cuadrado de la desviación estándar) teóricos:"
   ]
  },
  {
   "cell_type": "code",
   "execution_count": 13,
   "metadata": {},
   "outputs": [
    {
     "name": "stdout",
     "output_type": "stream",
     "text": [
      "El valor esperado y la varianza teóricos son, respectivamente:  6.65 14.027500000000003\n"
     ]
    }
   ],
   "source": [
    "promedio=(1+2+5+6+7+9+10+11+12)/9\n",
    "valorEsperado= 1*0.1+2*0.2+5*0.05+6*0.05+7*0.2+9*0.1+10*0.05+11*0.2+12*0.05\n",
    "varianza=1*0.1+4*0.2+25*0.05+36*0.05+49*0.2+81*0.1+100*0.05+121*0.2+144*0.05 - valorEsperado**2\n",
    "print(\"El valor esperado y la varianza teóricos son, respectivamente: \",valorEsperado,varianza)"
   ]
  },
  {
   "cell_type": "markdown",
   "metadata": {},
   "source": [
    "Luego el valor esperado teórico tiene un valor de 6,65 y la varianza teórica un valor de 14,0275."
   ]
  },
  {
   "cell_type": "markdown",
   "metadata": {},
   "source": [
    ">b) Con $P = 10,1000$ calcule la media de muestras de tamaño : $n \\in[2,10,30,100,1000]$ compare los resultados obtenidos para los dos $P$ dados. Presente los datos en una tabla ordenada con columnas: $n,\\;P=10,\\;P=1000$ Comente, ¿qué parece influir mas, la cantidad de repeticiones, el tamaño de la muestra o ambas?"
   ]
  },
  {
   "cell_type": "markdown",
   "metadata": {},
   "source": [
    "El siguiente programa genera P listas con n valores aleatorios (siguiendo las probabilidades entregadas) guardando sus promedios para luego promediar los mismos y mostrarlos por pantalla."
   ]
  },
  {
   "cell_type": "code",
   "execution_count": 10,
   "metadata": {},
   "outputs": [
    {
     "name": "stdout",
     "output_type": "stream",
     "text": [
      "[(2, 10, 6.7, 1000, 6.6805), (10, 10, 6.779999999999999, 1000, 6.633400000000001), (30, 10, 6.4799999999999995, 1000, 6.651700000000001), (100, 10, 6.687, 1000, 6.660219999999998), (1000, 10, 6.6593, 1000, 6.649699999999993)]\n"
     ]
    }
   ],
   "source": [
    "valores=[1,2,5,6,7,9,10,11,12]\n",
    "enes=[2,10,30,100,1000]\n",
    "promedios=[]\n",
    "random.seed(1)\n",
    "for n in enes:\n",
    "    promedioP10=0\n",
    "    p=0\n",
    "    while(p<10):\n",
    "        lista=random.choices(valores,weights=[10,20,5,5,20,10,5,20,5],k=n)\n",
    "        #print(lista)\n",
    "        #print(np.average(lista))\n",
    "        promedioP10=np.average(lista)+promedioP10\n",
    "        p+=1\n",
    "    promedioP1000=0\n",
    "    p=0\n",
    "    while(p<1000):\n",
    "        lista=random.choices(valores,weights=[10,20,5,5,20,10,5,20,5],k=n)\n",
    "        #print(lista)\n",
    "        #print(np.average(lista))\n",
    "        promedioP1000=np.average(lista)+promedioP1000\n",
    "        p+=1\n",
    "    promedios.append((n,10,promedioP10/10,1000,promedioP1000/1000)) #tupla=(n=cantidad de valores a crear,P=10,promedio de los promedios al repetirlo 10 veces, P=1000, Promedio de los promedios al repetirlo 10000 veces)\n",
    "print(promedios)    "
   ]
  },
  {
   "cell_type": "markdown",
   "metadata": {},
   "source": [
    "El resultado interpretado se muestra a continuación en la siguiente tabla:"
   ]
  },
  {
   "cell_type": "markdown",
   "metadata": {},
   "source": [
    "|   n   |     P=10    |      P=1000      |\n",
    "|:-----:|:------------:|:----------:|\n",
    "|  2    |      6.7     |       6.6805     |\n",
    "|  10   |      6.78     |     6.63       |\n",
    "|  30   |     6.48     |      6.65     |\n",
    "|  100  |     6.687    |       6.66     |\n",
    "|  1000 |      6.659    |      6.65      |          \n"
   ]
  },
  {
   "cell_type": "markdown",
   "metadata": {},
   "source": [
    "Observando los resultados obtenidos, podemos concluir que ambas variables (tamaño de la muestra y número de repeticiones) son igual de importantes, ya que una muestra muy pequeña (n=2) no es representativa aunque el número de repeticiones (P) sea alto. Sin embargo, a medida que se aumenta la muestra y también el número de repeticiones, nos acercamos cada vez más y con mayor presición al valor esperado teórico, por lo que una muestra considerable y un número alto de repeticiones son indispensables."
   ]
  },
  {
   "cell_type": "markdown",
   "metadata": {},
   "source": [
    ">c) Con lo obtenido en b) haga un histograma para las muestras de tamaño 2, 30 y 1000 de P = 1000. Comente lo que observa y concluya. ¿Se cumple lo que enuncia el teorema del límite central?"
   ]
  },
  {
   "cell_type": "code",
   "execution_count": 22,
   "metadata": {},
   "outputs": [
    {
     "data": {
      "image/png": "[encoded data removed]",
      "text/plain": [
       "<Figure size 432x288 with 1 Axes>"
      ]
     },
     "metadata": {
      "needs_background": "light"
     },
     "output_type": "display_data"
    },
    {
     "data": {
      "image/png": "[encoded data removed]",
      "text/plain": [
       "<Figure size 432x288 with 1 Axes>"
      ]
     },
     "metadata": {
      "needs_background": "light"
     },
     "output_type": "display_data"
    },
    {
     "data": {
      "image/png": "[encoded data removed]",
      "text/plain": [
       "<Figure size 432x288 with 1 Axes>"
      ]
     },
     "metadata": {
      "needs_background": "light"
     },
     "output_type": "display_data"
    }
   ],
   "source": [
    "enes=[2,30,1000]\n",
    "random.seed(1)\n",
    "for n in enes:\n",
    "    promedioP1000=[]\n",
    "    p=0\n",
    "    while(p<1000):\n",
    "        lista=random.choices(valores,weights=[10,20,5,5,20,10,5,20,5],k=n)\n",
    "        #print(lista)\n",
    "        #print(np.average(lista))\n",
    "        promedioP1000.append(np.average(lista))\n",
    "        p+=1\n",
    "    plt.hist(promedioP1000)\n",
    "    plt.title(\"Distribución con n=\"+str(n))\n",
    "    plt.show()"
   ]
  },
  {
   "cell_type": "markdown",
   "metadata": {},
   "source": [
    "Se puede observar que a medida que la muestra tiene más elementos y se mantiene un número de repeticiones alto (P=1000) la distribución va tomando forma normal: $$ \\bar{X} \\sim N\\left(\\mu,\\sqrt{\\frac{\\sigma^{2}}{n}}\\right)$$  Donde el valor esperado y la varianza corresponden a los teóricos calculados en el inciso a). Debido a esto, se puede concluir que se cumple lo que enuncia el teorema del límite central."
   ]
  },
  {
   "cell_type": "markdown",
   "metadata": {},
   "source": [
    "## 4. Ley de los Grande Números (20p)\n",
    "\n",
    "En estadística, la ley de los grandes números engloba teoremas que describen el comportamiento del promedio de una distribución de variables aleatorias. La ley de los grandes números dice que, en pocas palabras, a medida que se aumenta el tamaño muestral el promedio de la distribución de variables aleatorias converge al promedio de la población completa.\n",
    "\n",
    "Un estudio realizado en el casino de la universidad MSU, indica que el tiempo de espera en la cola del casino para obtener su almuerzo puede modelarse como una distribución Exponencial con parámetro: $\\lambda = 0.1$\n",
    "\n",
    ">a) **Utilizando las funciones provistas por los lenguajes** calcule la probabilida **teórica** de que un alumno espere menos de 10 minutos, exactamente 20 minutos y más de 50 minutos."
   ]
  },
  {
   "cell_type": "markdown",
   "metadata": {},
   "source": [
    "Utilizando las funciones provistas por el lenguaje, se calculan las probabilidades pedidas utilizando una distribución exponencial:"
   ]
  },
  {
   "cell_type": "code",
   "execution_count": 58,
   "metadata": {},
   "outputs": [
    {
     "name": "stdout",
     "output_type": "stream",
     "text": [
      "0.6321205588285577 0 0.006737946999085476\n"
     ]
    }
   ],
   "source": [
    "P1=expon.cdf(10,scale=1/0.1) #P(X<10)\n",
    "P2=0\n",
    "P3=1-expon.cdf(50,scale=1/0.1)#P(X>50)\n",
    "print(P1,P2,P3)"
   ]
  },
  {
   "cell_type": "markdown",
   "metadata": {},
   "source": [
    "Luego, la probabilidad de esperar menos de 10 minutos P(X<10) es de 60%, la probabilidad de esperar exactamente 20 minutos es 0 debido a que por definición en probabilidad continua, la probabilidad de un punto es 0, y por último la probabilidad de esperar más de 50 minutos P(X>50) es de 0.67%."
   ]
  },
  {
   "cell_type": "markdown",
   "metadata": {},
   "source": [
    ">b) Ahora genere 3 muestras de dicha distribución exponencial, con tamaños n = 5, 100, 300, 10000. Para cada una de estas muestras determine las mismas probabilidades calculadas en a) de manera empírica, comente sus resultados."
   ]
  },
  {
   "cell_type": "code",
   "execution_count": 118,
   "metadata": {},
   "outputs": [
    {
     "name": "stdout",
     "output_type": "stream",
     "text": [
      "\n",
      "\n",
      "Para n= 5  la probabilidad de que se demore menos de 10 minutos es  0.4  y la probabilidad de que se demore más de 50 minutos es  0.0\n",
      "La probabilidad de que se demore exactamente 20 minutos es de  0.0\n",
      "Para n= 100  la probabilidad de que se demore menos de 10 minutos es  0.65  y la probabilidad de que se demore más de 50 minutos es  0.0\n",
      "La probabilidad de que se demore exactamente 20 minutos es de  0.0\n",
      "Para n= 300  la probabilidad de que se demore menos de 10 minutos es  0.6166666666666667  y la probabilidad de que se demore más de 50 minutos es  0.01\n",
      "La probabilidad de que se demore exactamente 20 minutos es de  0.0\n",
      "Para n= 10000  la probabilidad de que se demore menos de 10 minutos es  0.638  y la probabilidad de que se demore más de 50 minutos es  0.0058\n",
      "La probabilidad de que se demore exactamente 20 minutos es de  0.0\n"
     ]
    }
   ],
   "source": [
    "m1=[]\n",
    "m2=[]\n",
    "m3=[]\n",
    "m4=[]\n",
    "random.seed(1)\n",
    "n10 = expon.rvs(scale=1/0.1,  size = 5) \n",
    "n100 = expon.rvs(scale=1/0.1,  size = 100) \n",
    "n300 = expon.rvs(scale=1/0.1,  size = 300) \n",
    "n10000 = expon.rvs(scale=1/0.1,  size = 10000) \n",
    "for n in n10:\n",
    "    m1.append(n)\n",
    "for n in n100:\n",
    "    m2.append(n)\n",
    "for n in n300:\n",
    "    m3.append(n)\n",
    "for n in n10000:\n",
    "    m4.append(n)\n",
    "casoFavorable=0\n",
    "casoFavorable2=0\n",
    "veinte=0\n",
    "random.seed(1)\n",
    "for num in m1:\n",
    "    if(num<10):\n",
    "        casoFavorable+=1\n",
    "    if(num>50):\n",
    "        casoFavorable2+=1\n",
    "    if(num==20):\n",
    "        veinte+=1\n",
    "print(\"\\n\")\n",
    "print(\"Para n=\",5,\" la probabilidad de que se demore menos de 10 minutos es \",casoFavorable/5,\" y la probabilidad de que se demore más de 50 minutos es \",casoFavorable2/5)\n",
    "print(\"La probabilidad de que se demore exactamente 20 minutos es de \",veinte/5)\n",
    "casoFavorable=0\n",
    "casoFavorable2=0\n",
    "veinte=0\n",
    "for num in m2:\n",
    "    if(num<10):\n",
    "        casoFavorable+=1\n",
    "    if(num>50):\n",
    "        casoFavorable2+=1   \n",
    "    if(num==20):\n",
    "        veinte+=1\n",
    "print(\"Para n=\",100,\" la probabilidad de que se demore menos de 10 minutos es \",casoFavorable/100,\" y la probabilidad de que se demore más de 50 minutos es \",casoFavorable2/100)\n",
    "print(\"La probabilidad de que se demore exactamente 20 minutos es de \",veinte/100)\n",
    "casoFavorable=0\n",
    "casoFavorable2=0\n",
    "veinte=0\n",
    "for num in m3:\n",
    "    if(num<10):\n",
    "        casoFavorable+=1\n",
    "    if(num>50):\n",
    "        casoFavorable2+=1    \n",
    "    if(num==20):\n",
    "        veinte+=1\n",
    "print(\"Para n=\",300,\" la probabilidad de que se demore menos de 10 minutos es \",casoFavorable/300,\" y la probabilidad de que se demore más de 50 minutos es \",casoFavorable2/300)\n",
    "print(\"La probabilidad de que se demore exactamente 20 minutos es de \",veinte/300)\n",
    "veinte=0\n",
    "casoFavorable=0\n",
    "casoFavorable2=0\n",
    "for num in m4:\n",
    "    if(num<10):\n",
    "        casoFavorable+=1\n",
    "    if(num>50):\n",
    "        casoFavorable2+=1  \n",
    "    if(num==20):\n",
    "        veinte+=1\n",
    "print(\"Para n=\",10000,\" la probabilidad de que se demore menos de 10 minutos es \",casoFavorable/10000,\" y la probabilidad de que se demore más de 50 minutos es \",casoFavorable2/10000)\n",
    "print(\"La probabilidad de que se demore exactamente 20 minutos es de \",veinte/10000)"
   ]
  },
  {
   "cell_type": "markdown",
   "metadata": {},
   "source": [
    "Observando los resultados, se puede concluir que de manera empírica se obtienen resultados muy similares al teórico, los cuales aumentan de presición al aumentar el tamaño de la muestra."
   ]
  },
  {
   "cell_type": "markdown",
   "metadata": {},
   "source": [
    ">c) ¿Cuál debería ser la media **teórica** de todas estas distribuciones? ¿Y cuál es la empírica? ¿Si difieren o son iguales a qué se debe esto?"
   ]
  },
  {
   "cell_type": "markdown",
   "metadata": {},
   "source": [
    "La media teórica de la distribución exponencial corresponde a 1/λ. Dado que en nuestro caso λ=0.1, la media teórica corresponde a 10.\n",
    "La media empírica se calcula a continuación para cada muestra (n = 5, 100, 300, 10000):"
   ]
  },
  {
   "cell_type": "code",
   "execution_count": 104,
   "metadata": {},
   "outputs": [
    {
     "name": "stdout",
     "output_type": "stream",
     "text": [
      "La media empírica con n=5 es  13.181144683823167\n",
      "La media empírica con n=100 es  10.005478097810174\n",
      "La media empírica con n=300 es  10.001649891538175\n",
      "La media empírica con n=10000 es  9.950321885385717\n"
     ]
    }
   ],
   "source": [
    "suma=0\n",
    "for n in m1:\n",
    "    suma=suma+n\n",
    "print(\"La media empírica con n=5 es \",suma/5)\n",
    "suma=0\n",
    "for n in m2:\n",
    "    suma=suma+n\n",
    "print(\"La media empírica con n=100 es \",suma/100)\n",
    "suma=0\n",
    "for n in m3:\n",
    "    suma=suma+n\n",
    "print(\"La media empírica con n=300 es \",suma/300)\n",
    "suma=0\n",
    "for n in m4:\n",
    "    suma=suma+n\n",
    "print(\"La media empírica con n=10000 es \",suma/10000)"
   ]
  },
  {
   "cell_type": "markdown",
   "metadata": {},
   "source": [
    "Como podemos observar, a medida que la muestra aumenta su tamaño, la media converge a 10 siendo el valor empírico y el teórico casi iguales. Esto se debe a que los elementos de la muestra siguen una distribución exponencial. Si el valor de n tendiese a infinito, se obtendría una media teórica y empírica exactamente iguales."
   ]
  },
  {
   "cell_type": "markdown",
   "metadata": {},
   "source": [
    ">d) Genere **un** gráfico de 4 boxplot (1 de cada distribución) y compárelos. Comente lo que observa y concluya respecto a la ley de los grandes números."
   ]
  },
  {
   "cell_type": "code",
   "execution_count": 117,
   "metadata": {},
   "outputs": [
    {
     "data": {
      "image/png": "[encoded data removed]",
      "text/plain": [
       "<Figure size 432x288 with 1 Axes>"
      ]
     },
     "metadata": {
      "needs_background": "light"
     },
     "output_type": "display_data"
    }
   ],
   "source": [
    "data = []\n",
    "data.append(m1)\n",
    "data.append(m2)\n",
    "data.append(m3)\n",
    "data.append(m4)\n",
    "fig, ax = plt.subplots()\n",
    "ax.boxplot(data)\n",
    "ax.set_title('Distribuciones(de iz. a derecha) con n=5,100,300,10000 ')\n",
    "plt.show()"
   ]
  },
  {
   "cell_type": "markdown",
   "metadata": {},
   "source": [
    "Podemos observar que a medida que la muestra aumenta su tamaño, la mediana (Q2 de los boxplots) se acerca cada vez más a 10, a la vez que aumenta la cantidad de *outliers* superiores lo cual indica un mayor grado de dispersión de la muestra. Esto deja en evidencia que se cumple la Ley de los Grande Números, la cual enuncia que a medida que se aumenta el tamaño muestral el promedio de la distribución de variables aleatorias converge al promedio de la población completa."
   ]
  },
  {
   "cell_type": "markdown",
   "metadata": {},
   "source": [
    "## Reglas del Juego y Comentarios \n",
    "\n",
    "+ Errores ortográficos, de redacción y oraciones ambiguas descontarán parte de su puntaje.\n",
    "+ Dudas solamente hasta el día *anunciado post_paro*\n",
    "+ Dudas **principalmente** vía moodle, evite otro tipo de medio ya que su duda podría ser la de otro.\n",
    "+ Cada día de atraso descuenta 25 puntos de la nota final con un máximo de dos días de retraso (después es 0).\n",
    "+ La versión de R que se usará para revisar es 3.5.3\n",
    "+ La versión de Python que se usará para revisar es 3.6.8\n",
    "+ Use cualquier librería que estime conveniente, si requiere de instalación explicitarlo en el README (y bien explicitado).\n",
    "+ Código comentado para facilitar entendimiento.\n",
    "+ Sea formal y claro con su respuesta, **explique su procedimiento y luego responda.** \n",
    "+ Defina bien las secciones de su notebook, el orden siempre es bueno :) [Tips para usar Markdown](https://github.com/adam-p/markdown-here/wiki/Markdown-Cheatsheet)\n",
    "\n",
    "\n",
    "## Meme \n",
    "\n",
    "Si se dividen el trabajo del lab, que no quede así:\n",
    "\n",
    "<img src=\"img/trabajo.png\">\n",
    "\n"
   ]
  }
 ],
 "metadata": {
  "kernelspec": {
   "display_name": "Python 3",
   "language": "python",
   "name": "python3"
  },
  "language_info": {
   "codemirror_mode": {
    "name": "ipython",
    "version": 3
   },
   "file_extension": ".py",
   "mimetype": "text/x-python",
   "name": "python",
   "nbconvert_exporter": "python",
   "pygments_lexer": "ipython3",
   "version": "3.7.1"
  }
 },
 "nbformat": 4,
 "nbformat_minor": 2
}
